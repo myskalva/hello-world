{
 "cells": [
  {
   "cell_type": "code",
   "execution_count": 1,
   "id": "73d932ae-7bfd-4fb8-aec1-6f7eb9337ebf",
   "metadata": {},
   "outputs": [
    {
     "name": "stdin",
     "output_type": "stream",
     "text": [
      "What is your name? Polly\n",
      "Write a greeting! Hello\n"
     ]
    },
    {
     "name": "stdout",
     "output_type": "stream",
     "text": [
      "Hello Polly\n"
     ]
    }
   ],
   "source": [
    "name = input(\"What is your name?\")\n",
    "greeting = input(\"Write a greeting!\")\n",
    "print(greeting, name)"
   ]
  },
  {
   "cell_type": "code",
   "execution_count": null,
   "id": "9232cf14-59dd-4900-bfb0-952f99f65594",
   "metadata": {},
   "outputs": [],
   "source": []
  }
 ],
 "metadata": {
  "kernelspec": {
   "display_name": "Python 3 (ipykernel)",
   "language": "python",
   "name": "python3"
  },
  "language_info": {
   "codemirror_mode": {
    "name": "ipython",
    "version": 3
   },
   "file_extension": ".py",
   "mimetype": "text/x-python",
   "name": "python",
   "nbconvert_exporter": "python",
   "pygments_lexer": "ipython3",
   "version": "3.11.13"
  }
 },
 "nbformat": 4,
 "nbformat_minor": 5
}
